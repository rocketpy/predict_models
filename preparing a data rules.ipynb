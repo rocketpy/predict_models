{
 "cells": [
  {
   "cell_type": "code",
   "execution_count": null,
   "metadata": {},
   "outputs": [],
   "source": [
    "import numpy as np\n",
    "import pandas as pd\n",
    "import matplotlib.pyplot as plt\n",
    "%matplotlib inline"
   ]
  },
  {
   "cell_type": "code",
   "execution_count": null,
   "metadata": {},
   "outputs": [],
   "source": [
    "df = pd.read_csv('file_name.csv')  # reading a file\n",
    "\n",
    "# if need use some column for index_column\n",
    "df pd.read_csv('file_name.csv', index_col='column_name')\n",
    "\n",
    "df = pd.read_csv('file_name.csv', header=0, sep='\\t')  # sep=',' , sep=';'\n",
    "#  header=0 , it means , first row will have index 0\n",
    "\n",
    "#  df = pd.read_excel('file_name')  , df = pd.read_html('file_name')"
   ]
  },
  {
   "cell_type": "code",
   "execution_count": null,
   "metadata": {},
   "outputs": [],
   "source": [
    "# write data to file\n",
    "df.to_csv('file_name.csv', sep=',', header=True, index=False)"
   ]
  },
  {
   "cell_type": "code",
   "execution_count": null,
   "metadata": {},
   "outputs": [],
   "source": [
    "df.columns  # show list of columns"
   ]
  },
  {
   "cell_type": "code",
   "execution_count": null,
   "metadata": {},
   "outputs": [],
   "source": [
    "df.shape  # df structure , amount rows and columns"
   ]
  },
  {
   "cell_type": "code",
   "execution_count": null,
   "metadata": {},
   "outputs": [],
   "source": [
    "df.info()  # show info"
   ]
  },
  {
   "cell_type": "code",
   "execution_count": null,
   "metadata": {},
   "outputs": [],
   "source": [
    "df.dtypes  # data types"
   ]
  },
  {
   "cell_type": "code",
   "execution_count": null,
   "metadata": {},
   "outputs": [],
   "source": [
    "df.head(10)  # first 10 rows"
   ]
  },
  {
   "cell_type": "code",
   "execution_count": null,
   "metadata": {},
   "outputs": [],
   "source": [
    "df.tail(10)  # last 10 rows"
   ]
  },
  {
   "cell_type": "code",
   "execution_count": null,
   "metadata": {},
   "outputs": [],
   "source": [
    "df.describe()  # show info about columns with numerical data"
   ]
  },
  {
   "cell_type": "code",
   "execution_count": null,
   "metadata": {},
   "outputs": [],
   "source": [
    "df['column_name'].mean()  # mean value for some column"
   ]
  },
  {
   "cell_type": "code",
   "execution_count": null,
   "metadata": {},
   "outputs": [],
   "source": [
    "df['column_name'].value_counts()\n",
    "\n",
    "df['column_name'].value_counts().plot.pie()"
   ]
  },
  {
   "cell_type": "code",
   "execution_count": null,
   "metadata": {},
   "outputs": [],
   "source": [
    "#  cheking a balans between values ( show in % how many 0 and 1 labels )\n",
    "df['column_with_labels'].value_counts(normalize=True)"
   ]
  },
  {
   "cell_type": "code",
   "execution_count": null,
   "metadata": {},
   "outputs": [],
   "source": [
    "#  for shuffling data  !!! if data is sorted need use this !!!\n",
    "new_df = df.sample(frac=1).reset_index(drop=True)"
   ]
  },
  {
   "cell_type": "code",
   "execution_count": null,
   "metadata": {},
   "outputs": [],
   "source": [
    "# if df contain many columns , take just which needed .\n",
    "cols = df[['column_name_1', 'column_name_2', 'column_name_3', 'column_name_4']]"
   ]
  },
  {
   "cell_type": "code",
   "execution_count": null,
   "metadata": {},
   "outputs": [],
   "source": [
    "# new columns on histogram\n",
    "cols.hist()\n",
    "plt.show()"
   ]
  },
  {
   "cell_type": "code",
   "execution_count": null,
   "metadata": {},
   "outputs": [],
   "source": [
    "df['col_name'].plot(kind='hist')  # plot histogram for some column"
   ]
  },
  {
   "cell_type": "code",
   "execution_count": null,
   "metadata": {},
   "outputs": [],
   "source": [
    "df = df.dropna()  #  delete NaN values in df\n",
    "\n",
    "df = df.drop([['column_name_1', 'column_name_5']], axis=1)  # delete some column\n",
    "# or\n",
    "df.drop(['column_name'], axis=1, inplace=True)"
   ]
  },
  {
   "cell_type": "code",
   "execution_count": null,
   "metadata": {},
   "outputs": [],
   "source": [
    "# create new column and replace values \n",
    "df['new_column'] = df.some_column.map({'male': 'M', 'female': 'F'})\n",
    "\n",
    "# replace NaN to some data with inplace \n",
    "df.column_name.fillna('some_value', inplace=True)\n",
    "\n",
    "# create a new column and delete old column with NaN values\n",
    "df['new_name'] = df.old_column.map({'NaN': 'put here mean_value for column'})  # mean_value take from df.describe()\n",
    "df = df.drop(['old_column'])\n",
    "\n",
    "# give a number to values for column 'color'\n",
    "df['color_num'] = df.color.factorize()[0]  # result : red = 1, green = 2, e.t.c\n",
    "\n",
    "# True or False for values\n",
    "df['new_column'] = df.age >= 18  # result : 25 - True, 15 - False"
   ]
  },
  {
   "cell_type": "code",
   "execution_count": null,
   "metadata": {},
   "outputs": [],
   "source": [
    "# adding a new rows to df\n",
    "new_line = {'column_name': 'value', 'column_name_2': 12345}\n",
    "\n",
    "df = df.append([new_line, new_line_2], index_ignore=True)"
   ]
  },
  {
   "cell_type": "code",
   "execution_count": null,
   "metadata": {},
   "outputs": [],
   "source": [
    "# delete rows\n",
    "df = df.drop([3, 5], axis=0)\n",
    "#  or\n",
    "df.drop([3, 5], axis=0, inplace=True)"
   ]
  },
  {
   "cell_type": "code",
   "execution_count": null,
   "metadata": {},
   "outputs": [],
   "source": [
    "# change type of data in some column\n",
    "df.column_name_1 = df.column_name_1.apply(pd.to_datetime)"
   ]
  },
  {
   "cell_type": "code",
   "execution_count": null,
   "metadata": {},
   "outputs": [],
   "source": [
    "#  select some rows using slice\n",
    "df[:2] #  first 2 rows\n",
    "\n",
    "df.loc[[1, 3, 5], 'column_name_1', 'column_name_3']  # select by location\n",
    "\n",
    "df.iloc[[1, 3, 5], [0, 2]]  # select by index , first row and first column have index 0"
   ]
  },
  {
   "cell_type": "code",
   "execution_count": null,
   "metadata": {},
   "outputs": [],
   "source": [
    "# select by filter\n",
    "df[df.column_name >= pd.datetime(2010, 1, 1)]"
   ]
  },
  {
   "cell_type": "code",
   "execution_count": null,
   "metadata": {},
   "outputs": [],
   "source": [
    "from sklearn.model_selection import train_test_split  # split data to train and test \n",
    "\n",
    "X_train, X_test, y_train, y_test = train_test_split(X, y, random_state=123, test_size=0.1)  # 10 % data for test \n",
    "\n",
    "# by default (X, y, random_state=, test_size=, shuffle=True) перетасовывать данные перед разделением , if False , no shufle."
   ]
  }
 ],
 "metadata": {
  "kernelspec": {
   "display_name": "Python 3",
   "language": "python",
   "name": "python3"
  },
  "language_info": {
   "codemirror_mode": {
    "name": "ipython",
    "version": 3
   },
   "file_extension": ".py",
   "mimetype": "text/x-python",
   "name": "python",
   "nbconvert_exporter": "python",
   "pygments_lexer": "ipython3",
   "version": "3.6.2"
  }
 },
 "nbformat": 4,
 "nbformat_minor": 2
}
