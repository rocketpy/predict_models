{
 "cells": [
  {
   "cell_type": "code",
   "execution_count": null,
   "metadata": {},
   "outputs": [],
   "source": [
    "import numpy as np\n",
    "import pandas as pd\n",
    "import matplotlib.pyplot as plt\n",
    "%matplotlib inline"
   ]
  },
  {
   "cell_type": "code",
   "execution_count": null,
   "metadata": {},
   "outputs": [],
   "source": [
    "df = pd.read_csv('file_name.csv')  # reading a file\n",
    "\n",
    "df = pd.read_csv('file_name.csv', header=0, sep='\\t')  # sep=',' , sep=';'\n",
    "#  header=0 , it means , names of columns it's a 0 row \n",
    "\n",
    "#  df = pd.read_excel('file_name')  , df = pd.read_html('file_name')"
   ]
  },
  {
   "cell_type": "code",
   "execution_count": null,
   "metadata": {},
   "outputs": [],
   "source": [
    "df.columns  # show list of columns"
   ]
  },
  {
   "cell_type": "code",
   "execution_count": null,
   "metadata": {},
   "outputs": [],
   "source": [
    "df.shape  # df structure"
   ]
  },
  {
   "cell_type": "code",
   "execution_count": null,
   "metadata": {},
   "outputs": [],
   "source": [
    "df.info  # show info"
   ]
  },
  {
   "cell_type": "code",
   "execution_count": null,
   "metadata": {},
   "outputs": [],
   "source": [
    "df.dtypes  # data types"
   ]
  },
  {
   "cell_type": "code",
   "execution_count": null,
   "metadata": {},
   "outputs": [],
   "source": [
    "df.head(10)  # first 10 rows"
   ]
  },
  {
   "cell_type": "code",
   "execution_count": null,
   "metadata": {},
   "outputs": [],
   "source": [
    "df.tail(10)  # last 10 rows"
   ]
  },
  {
   "cell_type": "code",
   "execution_count": null,
   "metadata": {},
   "outputs": [],
   "source": [
    "df.describe()  # show all info about df"
   ]
  },
  {
   "cell_type": "code",
   "execution_count": null,
   "metadata": {},
   "outputs": [],
   "source": [
    "# if df contain many columns , take just which needed .\n",
    "cols = df[['column_name_1', 'column_name_2', 'column_name_3', 'column_name_4']]\n",
    "\n",
    "# new columns on histogram\n",
    "cols.hist()\n",
    "plt.show()"
   ]
  },
  {
   "cell_type": "code",
   "execution_count": null,
   "metadata": {},
   "outputs": [],
   "source": [
    "df.dropna()  #  delete NaN values in df\n",
    "\n",
    "df.drop([['column_name_1', 'column_name_5']])  # delete some column"
   ]
  },
  {
   "cell_type": "code",
   "execution_count": null,
   "metadata": {},
   "outputs": [],
   "source": [
    "# create new column and replace values \n",
    "df['new_column'] = df.some_column.map({'male': 'M', 'female': 'F'})\n",
    "\n",
    "# create a new column and delete old column with NaN values\n",
    "df['new_name'] = df.old_column.map({'NaN': 'put here mean_value for column'})  # mean_value take from df.describe()\n",
    "df.drop(['old_column'])\n",
    "\n",
    "# give a number to values for column 'color'\n",
    "df['color_num'] = df.color.factorize()[0]  # result : red = 1, green = 2, e.t.c\n",
    "\n",
    "# True or False for values\n",
    "df['new_column'] = df.age >= 18  # result : 25 - True, 15 - False"
   ]
  }
 ],
 "metadata": {
  "kernelspec": {
   "display_name": "Python 3",
   "language": "python",
   "name": "python3"
  },
  "language_info": {
   "codemirror_mode": {
    "name": "ipython",
    "version": 3
   },
   "file_extension": ".py",
   "mimetype": "text/x-python",
   "name": "python",
   "nbconvert_exporter": "python",
   "pygments_lexer": "ipython3",
   "version": "3.6.2"
  }
 },
 "nbformat": 4,
 "nbformat_minor": 2
}
