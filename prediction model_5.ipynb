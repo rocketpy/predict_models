{
 "cells": [
  {
   "cell_type": "code",
   "execution_count": null,
   "metadata": {},
   "outputs": [],
   "source": [
    "\"\"\"\n",
    "В Keras Sequential , блоки соединяются последовательно, при этом не обязательно получается сеть прямого распространения.\n",
    "Сеть может быть такой (не прямого распространения):\n",
    "model = Sequential()\n",
    "model.add(Conv1D())\n",
    "model.add(LSTM())\n",
    "model.add(Flatten())\n",
    "model.add(Dense())\n",
    "\"\"\""
   ]
  },
  {
   "cell_type": "code",
   "execution_count": null,
   "metadata": {},
   "outputs": [],
   "source": [
    "import os  \n",
    "import numpy as np\n",
    "import pandas as pd\n",
    "import matplotlib\n",
    "import matplotlib.pyplot as pt\n",
    "matplotlib.style.use('ggplot')\n",
    "%matplotlib inline"
   ]
  },
  {
   "cell_type": "code",
   "execution_count": null,
   "metadata": {},
   "outputs": [],
   "source": [
    "os.chdir('C:/')  # path to file with data "
   ]
  },
  {
   "cell_type": "code",
   "execution_count": null,
   "metadata": {},
   "outputs": [],
   "source": [
    "df = pd.read_csv('file_name.csv')\n",
    "\n",
    "# if file is .txt  format\n",
    "# df = pd.read_csv('file_name.txt', sep='\\t', header=0)"
   ]
  },
  {
   "cell_type": "code",
   "execution_count": null,
   "metadata": {},
   "outputs": [],
   "source": [
    "df.head()"
   ]
  },
  {
   "cell_type": "code",
   "execution_count": null,
   "metadata": {},
   "outputs": [],
   "source": [
    "df.describe(include='all')  # all columns"
   ]
  },
  {
   "cell_type": "code",
   "execution_count": null,
   "metadata": {},
   "outputs": [],
   "source": [
    "#  cheking a balans between values ( show in % how many 0 and 1 labels )\n",
    "df['column_with_labels'].value_counts(normalize=True)"
   ]
  },
  {
   "cell_type": "code",
   "execution_count": null,
   "metadata": {},
   "outputs": [],
   "source": [
    "#  for shuffling data  !!! if data is sorted need use this !!!\n",
    "# new_df = df.sample(frac=1).reset_index(drop=True)"
   ]
  },
  {
   "cell_type": "code",
   "execution_count": null,
   "metadata": {},
   "outputs": [],
   "source": [
    "y = df['column_with_labels']\n",
    "X = df.drop['column_with_labels', axis=1]"
   ]
  },
  {
   "cell_type": "code",
   "execution_count": null,
   "metadata": {},
   "outputs": [],
   "source": [
    "from sklearn.model_selection import train_test_split  #  split data to train and test \n",
    "\n",
    "X_train, X_test, y_train, y_test = train_test_split(X, y, random_state=123, test_size=0.1)  # 10% data for test \n",
    "\n",
    "# by default (X, y, random_state=, test_size=, shuffle=True) перетасовывать данные перед разделением , if False , no shufle."
   ]
  },
  {
   "cell_type": "code",
   "execution_count": null,
   "metadata": {},
   "outputs": [],
   "source": [
    "#  checking a data\n",
    "X_train.head()\n",
    "X_test.head()\n",
    "y_train.head()\n",
    "y_test.head()"
   ]
  },
  {
   "cell_type": "code",
   "execution_count": null,
   "metadata": {},
   "outputs": [],
   "source": [
    "#  transform data to numpy array\n",
    "X_train = X_train.values\n",
    "X_test = X_test.values\n",
    "y_train = y_train.values\n",
    "y_test = y_test.values"
   ]
  },
  {
   "cell_type": "code",
   "execution_count": null,
   "metadata": {},
   "outputs": [],
   "source": [
    "\"\"\"\n",
    "#  if in column with labels , greater than 2 classes ( for example 3 ) separate to 3 sub_columns\n",
    "\n",
    "y_train_bin = np_utils.to_categorical(y_train)\n",
    "\n",
    "y_test_bin = np_utils.to_categorical(y_test)\n",
    "\n",
    "y_train_bin[0:5]\n",
    "\n",
    "\"\"\""
   ]
  },
  {
   "cell_type": "code",
   "execution_count": null,
   "metadata": {},
   "outputs": [],
   "source": [
    "#  стоит попробовать задавать начальное распределение весов с ожиданием 0,5 , а не 0"
   ]
  },
  {
   "cell_type": "code",
   "execution_count": null,
   "metadata": {},
   "outputs": [],
   "source": [
    "from keras.models import Sequential\n",
    "from keras.layers import Dense\n",
    "from keras.utils import np_utils\n",
    "\n",
    "\n",
    "#  creating a model\n",
    "model = Sequential()\n",
    "model.add(Dense(45, input_dim=45, activation='relu'))  #  input_dim - it's amount x , columns in df !!!\n",
    "model.add(Dense(10, activation='relu'))  # try to use 'sigmoid'\n",
    "model.add(Dense(2, activation='softmax'))  #  try use 'sigmoid'\n",
    "\n",
    "#  need try , only one hidden layer !!!"
   ]
  },
  {
   "cell_type": "code",
   "execution_count": null,
   "metadata": {},
   "outputs": [],
   "source": [
    "model.compile(optimizer='adam', loss='categorical_crossentropy', metrics=['accuracy'])\n",
    "#  try to use loss='mse'"
   ]
  },
  {
   "cell_type": "code",
   "execution_count": null,
   "metadata": {},
   "outputs": [],
   "source": [
    "model.fit(X_train, y_train, epochs=100, batch_size=10)  # for 3 classes use:  y_train_bin"
   ]
  },
  {
   "cell_type": "code",
   "execution_count": null,
   "metadata": {},
   "outputs": [],
   "source": [
    "#  evaluate the model\n",
    "scores = model.evaluate(X_test, y_test)  # for 3 classes use:  y_test_bin\n",
    "print('\\nAccuracy :  %.2f%%' % (scores[1]*100))"
   ]
  },
  {
   "cell_type": "code",
   "execution_count": null,
   "metadata": {},
   "outputs": [],
   "source": [
    "#  prediction \n",
    "predictions = model.predict(X_test)\n",
    "\n",
    "#  round predictions\n",
    "rounded = [round(x[0]) for x in predictions]\n",
    "print(rounded)"
   ]
  },
  {
   "cell_type": "code",
   "execution_count": null,
   "metadata": {},
   "outputs": [],
   "source": [
    "print(predictions[0:5])"
   ]
  },
  {
   "cell_type": "code",
   "execution_count": null,
   "metadata": {},
   "outputs": [],
   "source": [
    "# fast pandas tutorial\n",
    "\n",
    "#  for shuffling data  !!! if data is sorted need use this !!!\n",
    "new_df = df.sample(frac=1).reset_index(drop=True)\n",
    "\n",
    "df.columns  # return list af all columns\n",
    "\n",
    "df['column_name']\n",
    "\n",
    "# for rows use  iloc\n",
    "df.iloc[5]  \n",
    "\n",
    "df['column_name'].iloc[5]  #  show row of one column\n",
    "\n",
    "df[['column_name, column_name']]\n",
    "\n",
    "# get a few columns\n",
    "col_5 = df.columns[:5]\n",
    "\n",
    "#  show choosed columns\n",
    "df[col_5]\n",
    "\n",
    "# range selected rows\n",
    "df.iloc[3:10]\n",
    "\n",
    "#  very useful expression\n",
    "df[df.columns[2:5]].iloc[3:9]\n"
   ]
  }
 ],
 "metadata": {
  "kernelspec": {
   "display_name": "Python 3",
   "language": "python",
   "name": "python3"
  },
  "language_info": {
   "codemirror_mode": {
    "name": "ipython",
    "version": 3
   },
   "file_extension": ".py",
   "mimetype": "text/x-python",
   "name": "python",
   "nbconvert_exporter": "python",
   "pygments_lexer": "ipython3",
   "version": "3.6.2"
  }
 },
 "nbformat": 4,
 "nbformat_minor": 2
}
