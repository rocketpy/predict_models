{
 "cells": [
  {
   "cell_type": "code",
   "execution_count": null,
   "metadata": {},
   "outputs": [],
   "source": [
    "import os  \n",
    "import numpy as np\n",
    "import pandas as pd\n",
    "import matplotlib\n",
    "import matplotlib.pyplot as pt\n",
    "matplotlib.style.use('ggplot')\n",
    "%matplotlib inline"
   ]
  },
  {
   "cell_type": "code",
   "execution_count": null,
   "metadata": {},
   "outputs": [],
   "source": [
    "os.chdir('C:/')  # path to file with data "
   ]
  },
  {
   "cell_type": "code",
   "execution_count": null,
   "metadata": {},
   "outputs": [],
   "source": [
    "df = pd.read_csv('file_name.csv')\n",
    "\n",
    "# if file is .txt  format\n",
    "# df = pd.read_csv('file_name.txt', sep='\\t', header=0)"
   ]
  },
  {
   "cell_type": "code",
   "execution_count": null,
   "metadata": {},
   "outputs": [],
   "source": [
    "df.head()"
   ]
  },
  {
   "cell_type": "code",
   "execution_count": null,
   "metadata": {},
   "outputs": [],
   "source": [
    "df.describe(include='all')  # all columns"
   ]
  },
  {
   "cell_type": "code",
   "execution_count": null,
   "metadata": {},
   "outputs": [],
   "source": [
    "#  cheking a balans between values ( show in % how many 0 and 1 labels )\n",
    "df['column_with_labels'].value_counts(normalize=True)"
   ]
  },
  {
   "cell_type": "code",
   "execution_count": null,
   "metadata": {},
   "outputs": [],
   "source": [
    "#  for shuffling data  !!! if data is sorted need use this !!!\n",
    "# new_df = df.sample(frac=1).reset_index(drop=True)"
   ]
  },
  {
   "cell_type": "code",
   "execution_count": null,
   "metadata": {},
   "outputs": [],
   "source": [
    "y = df['column_with_labels']\n",
    "X = df.drop['column_with_labels', axis=1]"
   ]
  },
  {
   "cell_type": "code",
   "execution_count": null,
   "metadata": {},
   "outputs": [],
   "source": [
    "from sklearn.model_selection import train_test_split  #  split data to train and test \n",
    "\n",
    "X_train, X_test, y_train, y_test = train_test_split(X, y, random_state=123, test_size=0.1)  # 10% data for test \n",
    "\n",
    "# by default (X, y, random_state=, test_size=, shuffle=True) перетасовывать данные перед разделением , if False , no shufle."
   ]
  },
  {
   "cell_type": "code",
   "execution_count": null,
   "metadata": {},
   "outputs": [],
   "source": [
    "#  checking a data\n",
    "X_train.head()\n",
    "X_test.head()\n",
    "y_train.head()\n",
    "y_test.head()"
   ]
  },
  {
   "cell_type": "code",
   "execution_count": null,
   "metadata": {},
   "outputs": [],
   "source": [
    "#  transform data to numpy array\n",
    "X_train = X_train.values\n",
    "X_tets = X_test.values\n",
    "y_train = y_train.values\n",
    "y_test = y_test.values"
   ]
  },
  {
   "cell_type": "code",
   "execution_count": null,
   "metadata": {},
   "outputs": [],
   "source": [
    "\"\"\"\n",
    "#  if greater than 2 classes ( for example 3 )\n",
    "\n",
    "y_train_bin = np_utils.to_categorical(y_train)\n",
    "\n",
    "y_test_bin = np_utils.to_categorical(y_test)\n",
    "\n",
    "y_train_bin[0:5]\n",
    "\n",
    "\"\"\""
   ]
  },
  {
   "cell_type": "code",
   "execution_count": null,
   "metadata": {},
   "outputs": [],
   "source": [
    "from keras.models import Sequential\n",
    "from keras.layers import Dense\n",
    "from keras.utils import np_utils\n",
    "\n",
    "\n",
    "#  creating a model\n",
    "model = Sequential()\n",
    "model.add(Dense(45, input_dim=45, activation='relu'))\n",
    "model.add(Dense(10, activation='relu'))\n",
    "model.add(Dense(2, activation='sigmoid'))  #  try use 'softmax'"
   ]
  },
  {
   "cell_type": "code",
   "execution_count": null,
   "metadata": {},
   "outputs": [],
   "source": [
    "model.compile(optimizer='adam', loss='categorical_crossentropy', metrics=['accuracy'])"
   ]
  },
  {
   "cell_type": "code",
   "execution_count": null,
   "metadata": {},
   "outputs": [],
   "source": [
    "model.fit(X_train, y_train, epochs=100, batch_size=10)"
   ]
  },
  {
   "cell_type": "code",
   "execution_count": null,
   "metadata": {},
   "outputs": [],
   "source": [
    "# fast pandas tutorial\n",
    "\n",
    "#  for shuffling data  !!! if data is sorted need use this !!!\n",
    "new_df = df.sample(frac=1).reset_index(drop=True)\n",
    "\n",
    "df.columns  # return list af all columns\n",
    "\n",
    "df['column_name']\n",
    "\n",
    "# for rows use  iloc\n",
    "df.iloc[5]  \n",
    "\n",
    "df['column_name'].iloc[5]  #  show row of one column\n",
    "\n",
    "df[['column_name, column_name']]\n",
    "\n",
    "# get a few columns\n",
    "col_5 = df.columns[:5]\n",
    "\n",
    "#  show choosed columns\n",
    "df[col_5]\n",
    "\n",
    "# range selected rows\n",
    "df.iloc[3:10]\n",
    "\n",
    "#  very useful expression\n",
    "df[df.columns[2:5]].iloc[3:9]\n"
   ]
  }
 ],
 "metadata": {
  "kernelspec": {
   "display_name": "Python 3",
   "language": "python",
   "name": "python3"
  },
  "language_info": {
   "codemirror_mode": {
    "name": "ipython",
    "version": 3
   },
   "file_extension": ".py",
   "mimetype": "text/x-python",
   "name": "python",
   "nbconvert_exporter": "python",
   "pygments_lexer": "ipython3",
   "version": "3.6.2"
  }
 },
 "nbformat": 4,
 "nbformat_minor": 2
}
