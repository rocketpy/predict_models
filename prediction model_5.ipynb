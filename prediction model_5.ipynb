{
 "cells": [
  {
   "cell_type": "code",
   "execution_count": null,
   "metadata": {},
   "outputs": [],
   "source": [
    "import os  \n",
    "import numpy as np\n",
    "import pandas as pd\n",
    "import matplotlib\n",
    "import matplotlib.pyplot as pt\n",
    "matplotlib.style.use('ggplot')\n",
    "%matplotlib inline"
   ]
  },
  {
   "cell_type": "code",
   "execution_count": null,
   "metadata": {},
   "outputs": [],
   "source": [
    "os.chdir('C:/')  # path to file with data "
   ]
  },
  {
   "cell_type": "code",
   "execution_count": null,
   "metadata": {},
   "outputs": [],
   "source": [
    "from keras.models import Sequential\n",
    "from keras.layers import Dense\n",
    "from keras.utils import np_utils"
   ]
  },
  {
   "cell_type": "code",
   "execution_count": null,
   "metadata": {},
   "outputs": [],
   "source": [
    "df = pd.read_csv('file_name.csv')"
   ]
  },
  {
   "cell_type": "code",
   "execution_count": null,
   "metadata": {},
   "outputs": [],
   "source": [
    "df.head()"
   ]
  },
  {
   "cell_type": "code",
   "execution_count": null,
   "metadata": {},
   "outputs": [],
   "source": [
    "df.describe(include='all')  # all columns"
   ]
  },
  {
   "cell_type": "code",
   "execution_count": null,
   "metadata": {},
   "outputs": [],
   "source": [
    "#  for shuffling data  !!! if data is sorted need use this !!!\n",
    "# new_df = df.sample(frac=1).reset_index(drop=True)"
   ]
  },
  {
   "cell_type": "code",
   "execution_count": null,
   "metadata": {},
   "outputs": [],
   "source": [
    "# fast tutorial\n",
    "\"\"\"\n",
    "\n",
    "#  for shuffling data  !!! if data is sorted need use this !!!\n",
    "new_df = df.sample(frac=1).reset_index(drop=True)\n",
    "\n",
    "df.columns  # return list af all columns\n",
    "\n",
    "df['column_name']\n",
    "\n",
    "# for rows use  iloc\n",
    "df.iloc[5]  \n",
    "\n",
    "df['column_name'].iloc[5]  #  show row of one column\n",
    "\n",
    "df[['column_name, column_name']]\n",
    "\n",
    "# get a few columns\n",
    "col_5 = df.columns[:5]\n",
    "\n",
    "#  show choosed columns\n",
    "df[col_5]\n",
    "\n",
    "# range selected rows\n",
    "df.iloc[3:10]\n",
    "\n",
    "#  very useful expression\n",
    "df[df.columns[2:5]].iloc[3:9]\n",
    "\n",
    "\"\"\""
   ]
  }
 ],
 "metadata": {
  "kernelspec": {
   "display_name": "Python 3",
   "language": "python",
   "name": "python3"
  },
  "language_info": {
   "codemirror_mode": {
    "name": "ipython",
    "version": 3
   },
   "file_extension": ".py",
   "mimetype": "text/x-python",
   "name": "python",
   "nbconvert_exporter": "python",
   "pygments_lexer": "ipython3",
   "version": "3.6.2"
  }
 },
 "nbformat": 4,
 "nbformat_minor": 2
}
