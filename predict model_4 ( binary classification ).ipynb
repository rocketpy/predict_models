{
 "cells": [
  {
   "cell_type": "code",
   "execution_count": null,
   "metadata": {},
   "outputs": [],
   "source": [
    "import numpy as np\n",
    "import pandas as pd"
   ]
  },
  {
   "cell_type": "code",
   "execution_count": null,
   "metadata": {},
   "outputs": [],
   "source": [
    "data_train = pd.read_csv('file_name.csv', delimiter=',', index_col='id')\n",
    "data_test = pd.read_csv('file_name.csv', delimiter=',', index_col='id')"
   ]
  },
  {
   "cell_type": "code",
   "execution_count": null,
   "metadata": {},
   "outputs": [],
   "source": [
    "data_train.head()"
   ]
  },
  {
   "cell_type": "code",
   "execution_count": null,
   "metadata": {},
   "outputs": [],
   "source": [
    "data_test.head()"
   ]
  },
  {
   "cell_type": "code",
   "execution_count": null,
   "metadata": {},
   "outputs": [],
   "source": [
    "data_train.shape"
   ]
  },
  {
   "cell_type": "code",
   "execution_count": null,
   "metadata": {},
   "outputs": [],
   "source": [
    "data_test.shape"
   ]
  },
  {
   "cell_type": "code",
   "execution_count": null,
   "metadata": {},
   "outputs": [],
   "source": [
    "#  checking , how many 0 and 1 , sum 0 and 1 must be = amount(quantity) of rows\n",
    "data_train_count_y1 = data_train[data_train['column_name']==1].shape[0]\n",
    "\n",
    "data_train_count_y0 = data_train[data_train['column_name']==0].shape[0]\n",
    "\n",
    "print(data_train_count_y1, data_train_count_y0, 'Sum of 0 and 1  :' + (data_train_count_y1 + data_train_count_y0))"
   ]
  },
  {
   "cell_type": "code",
   "execution_count": null,
   "metadata": {},
   "outputs": [],
   "source": [
    "#  checking in % , quantity of 0 and 1\n",
    "data_train_count = data_train.shape[0]\n",
    "data_train_percent_y1 = data_train_count_y1 / data_train_count\n",
    "data_train_percent_y0 = data_train_count_y0 / data_train_count\n",
    "\n",
    "print('In % 1 = {}, In % 0 = {} .' .format(round(data_train_percent_y1*100, 2,), round(data_train_percent_y0*100, 2,)))"
   ]
  },
  {
   "cell_type": "code",
   "execution_count": null,
   "metadata": {},
   "outputs": [],
   "source": [
    "#  checking a correletion\n",
    "data_train.corr()\n",
    "\n",
    "# if values nearest to 1 , it's a very good data for train !!!\n",
    "#  if values nearest to 0 , columns with this data need remove"
   ]
  }
 ],
 "metadata": {
  "kernelspec": {
   "display_name": "Python 3",
   "language": "python",
   "name": "python3"
  },
  "language_info": {
   "codemirror_mode": {
    "name": "ipython",
    "version": 3
   },
   "file_extension": ".py",
   "mimetype": "text/x-python",
   "name": "python",
   "nbconvert_exporter": "python",
   "pygments_lexer": "ipython3",
   "version": "3.6.2"
  }
 },
 "nbformat": 4,
 "nbformat_minor": 2
}
