{
 "cells": [
  {
   "cell_type": "code",
   "execution_count": null,
   "metadata": {},
   "outputs": [],
   "source": [
    "import numpy as np\n",
    "import pandas as pd"
   ]
  },
  {
   "cell_type": "code",
   "execution_count": null,
   "metadata": {},
   "outputs": [],
   "source": [
    "data_train = pd.read_csv('file_name.csv', delimiter=',', index_col='id')\n",
    "data_test = pd.read_csv('file_name.csv', delimiter=',', index_col='id')"
   ]
  },
  {
   "cell_type": "code",
   "execution_count": null,
   "metadata": {},
   "outputs": [],
   "source": [
    "data_train.head()"
   ]
  },
  {
   "cell_type": "code",
   "execution_count": null,
   "metadata": {},
   "outputs": [],
   "source": [
    "data_test.head()"
   ]
  },
  {
   "cell_type": "code",
   "execution_count": null,
   "metadata": {},
   "outputs": [],
   "source": [
    "data_train.shape"
   ]
  },
  {
   "cell_type": "code",
   "execution_count": null,
   "metadata": {},
   "outputs": [],
   "source": [
    "data_test.shape"
   ]
  },
  {
   "cell_type": "code",
   "execution_count": null,
   "metadata": {},
   "outputs": [],
   "source": [
    "#  checking , how many 0 and 1 , sum 0 and 1 must be = amount(quantity) of rows\n",
    "data_train_count_y1 = data_train[data_train['column_name']==1].shape[0]\n",
    "\n",
    "data_train_count_y0 = data_train[data_train['column_name']==0].shape[0]\n",
    "\n",
    "print(data_train_count_y1, data_train_count_y0, 'Sum of 0 and 1  :' + (data_train_count_y1 + data_train_count_y0))"
   ]
  },
  {
   "cell_type": "code",
   "execution_count": null,
   "metadata": {},
   "outputs": [],
   "source": [
    "#  checking in % , quantity of 0 and 1\n",
    "data_train_count = data_train.shape[0]\n",
    "data_train_percent_y1 = data_train_count_y1 / data_train_count\n",
    "data_train_percent_y0 = data_train_count_y0 / data_train_count\n",
    "\n",
    "print('In % 1 = {}, In % 0 = {} .' .format(round(data_train_percent_y1*100, 2,), round(data_train_percent_y0*100, 2,)))"
   ]
  },
  {
   "cell_type": "code",
   "execution_count": null,
   "metadata": {},
   "outputs": [],
   "source": [
    "#  checking to NaN values , if data_set have a NaN , need NaN replace to numerical data !!!\n",
    "data_train.columns[data_train.isnull().values.any()].tolist()"
   ]
  },
  {
   "cell_type": "code",
   "execution_count": null,
   "metadata": {},
   "outputs": [],
   "source": [
    "#  checking a correletion , it's a very important !!!\n",
    "data_train.corr()\n",
    "\n",
    "# if values nearest to 1 , it's a very good data for train !!!\n",
    "#  if values nearest to 0 , columns with this data need remove"
   ]
  },
  {
   "cell_type": "code",
   "execution_count": null,
   "metadata": {},
   "outputs": [],
   "source": [
    "#  visualization a data ( correlation )\n",
    "import matplotlib.pyplot as plt\n",
    "import seaborn as sns\n",
    "%matplotlib inline "
   ]
  },
  {
   "cell_type": "code",
   "execution_count": null,
   "metadata": {},
   "outputs": [],
   "source": [
    "sns.set(style='ticks')\n",
    "sns.heatmap(data_train.corr())"
   ]
  },
  {
   "cell_type": "code",
   "execution_count": null,
   "metadata": {},
   "outputs": [],
   "source": [
    "sns.pairplot(data_train, hue='column_name')  # column with labels ( y_train or y_test )"
   ]
  },
  {
   "cell_type": "code",
   "execution_count": null,
   "metadata": {},
   "outputs": [],
   "source": [
    "#  separate dataset to train and validation set !!!\n",
    "from sklearn.model_selection import train_test_split\n",
    "\n",
    "#  for big dataset , will be enough 0.1\n",
    "train, validation = train_test_split(data_train, test_size=0.2)  #  0.2 - it's a 20% from all data_set"
   ]
  },
  {
   "cell_type": "code",
   "execution_count": null,
   "metadata": {},
   "outputs": [],
   "source": [
    "#  accuracy - Это процент значений, который был правильно предсказан классификатором !!!"
   ]
  },
  {
   "cell_type": "code",
   "execution_count": null,
   "metadata": {},
   "outputs": [],
   "source": [
    "from sklearn.metrics import accuracy_score\n",
    "    \n",
    "#  create a function for testing of classifier\n",
    "\n",
    "# this lists for plotting grafics\n",
    "arr_name = []\n",
    "arr_train = []\n",
    "arr_val = []\n",
    "\n",
    "#  selected columns \n",
    "cols_x = ['column_name', 'col_name', 'col_name', 'col_name']   #  some column with a good correletion\n",
    "\n",
    "col_y = 'column_name'  # column with labels\n",
    "\n",
    "\n",
    "def test_classifier(classifier, classifier_name):\n",
    "    classifier.fit(train[cols_x], train[col_y])\n",
    "    y_train = classifier.predict(train[cols_x])\n",
    "    y_train_acc = accuracy_score(train[col_y], y_train)\n",
    "    y_val = classifier.predict(validation[cols_x])\n",
    "    y_val_acc = accuracy_score(validation[col_y], y_val)\n",
    "    \n",
    "    arr_name.append(classifier_name)\n",
    "    arr_train.append(y_train_acc)\n",
    "    arr_val.append(y_val_acc)\n",
    "    \n",
    "    print(\"Algorythm accuracy {}, Train accuracy {}, Test accuracy {}\"\\\n",
    "          .format(classifier_name, round(y_train_acc, ), round(y_val_acc, )))\n",
    "    \n",
    "    return classifier"
   ]
  },
  {
   "cell_type": "code",
   "execution_count": null,
   "metadata": {},
   "outputs": [],
   "source": [
    "#  KNeighborsClassifier\n",
    "from sklearn.neighbors import KNeighborsClassifier\n",
    "\n",
    "%time classifier = test_classifier(KNeighborsClassifier(), 'KNN')"
   ]
  },
  {
   "cell_type": "code",
   "execution_count": null,
   "metadata": {},
   "outputs": [],
   "source": [
    "#  LogisticRegression\n",
    "from sklearn.linear_model import LogisticRegression\n",
    "    \n",
    "%time classifier = test_classifier(LogisticRegression(), 'LR')"
   ]
  },
  {
   "cell_type": "code",
   "execution_count": null,
   "metadata": {},
   "outputs": [],
   "source": [
    "#  DecisionTreeClassifier\n",
    "from sklearn.tree import DecisionTreeClassifier\n",
    "    \n",
    "%time classifier = test_classifier(DecisionTreeClassifier(), 'Tree')"
   ]
  },
  {
   "cell_type": "code",
   "execution_count": null,
   "metadata": {},
   "outputs": [],
   "source": [
    "for col, i in zip(cols_x, classifier.feature_importances_):  # to show importants of some columns\n",
    "    print(col, \": \", i)"
   ]
  },
  {
   "cell_type": "code",
   "execution_count": null,
   "metadata": {},
   "outputs": [],
   "source": [
    "#  GradientBoostingClassifier\n",
    "from sklearn.ensemble import GradientBoostingClassifier\n",
    "\n",
    "%time classifier = test_classifier(GradientBoostingClassifier(), 'GB')"
   ]
  },
  {
   "cell_type": "code",
   "execution_count": null,
   "metadata": {},
   "outputs": [],
   "source": [
    "for col, i in zip(cols_x, classifier.feature_importances_):\n",
    "    print(col, \": \", i)"
   ]
  },
  {
   "cell_type": "code",
   "execution_count": null,
   "metadata": {},
   "outputs": [],
   "source": [
    "#  vectors machine\n",
    "from sklearn.svm import SVC\n",
    "\n",
    "%time classifier = test_classifier(SVC(), )"
   ]
  },
  {
   "cell_type": "code",
   "execution_count": null,
   "metadata": {},
   "outputs": [],
   "source": [
    "#  results\n",
    "\n",
    "x = range(len(arr_train))\n",
    "plt.plot(x, arr_train)\n",
    "plt.plot(x, arr_val)\n",
    "plt.xticks(x, arr_name)\n",
    "plt.ylabel('Accuracy algorythm')\n",
    "plt.legend(['Train', 'Validation'], loc='lower left')\n",
    "plt.show()"
   ]
  },
  {
   "cell_type": "code",
   "execution_count": null,
   "metadata": {},
   "outputs": [],
   "source": [
    "# making prediction for test dataset !!!\n",
    "cols_x = ['col_name', 'col_name', 'col_name', 'col_name']   \n",
    "col_y = 'column_name'  # with labels\n",
    "\n",
    "clf = DecisionTreeClassifier()\n",
    "clf.fit(data_train[cols_x], data_train[col_y])\n",
    "\n",
    "occupancy_predicted = clf.predict(data_test[cols_x])"
   ]
  },
  {
   "cell_type": "code",
   "execution_count": null,
   "metadata": {},
   "outputs": [],
   "source": [
    "#  save result to CSV\n",
    "data_test['value'] = occupancy_predicted\n",
    "data_test.to_csv('file_name.csv')"
   ]
  }
 ],
 "metadata": {
  "kernelspec": {
   "display_name": "Python 3",
   "language": "python",
   "name": "python3"
  },
  "language_info": {
   "codemirror_mode": {
    "name": "ipython",
    "version": 3
   },
   "file_extension": ".py",
   "mimetype": "text/x-python",
   "name": "python",
   "nbconvert_exporter": "python",
   "pygments_lexer": "ipython3",
   "version": "3.6.2"
  }
 },
 "nbformat": 4,
 "nbformat_minor": 2
}
